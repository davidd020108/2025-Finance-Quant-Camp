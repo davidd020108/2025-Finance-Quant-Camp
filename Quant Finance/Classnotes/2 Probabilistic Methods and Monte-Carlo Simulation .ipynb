{
 "cells": [
  {
   "cell_type": "markdown",
   "id": "6cf062b5",
   "metadata": {},
   "source": [
    "# Probabilistic Methods and Monte-Carlo Simulation\n",
    "\n",
    "**Fall 2025 Quantiative Methods in Finance**\n",
    "\n",
    "**The Erdös Institute**"
   ]
  },
  {
   "cell_type": "code",
   "execution_count": 4,
   "id": "9671c723",
   "metadata": {},
   "outputs": [
    {
     "name": "stdout",
     "output_type": "stream",
     "text": [
      "/usr/local/bin/python3\n",
      "Requirement already satisfied: pip in /Library/Frameworks/Python.framework/Versions/3.13/lib/python3.13/site-packages (25.2)\n",
      "Requirement already satisfied: pip in /Library/Frameworks/Python.framework/Versions/3.13/lib/python3.13/site-packages (25.2)\n",
      "Requirement already satisfied: numpy in /Library/Frameworks/Python.framework/Versions/3.13/lib/python3.13/site-packages (2.3.3)\n",
      "Requirement already satisfied: pandas in /Library/Frameworks/Python.framework/Versions/3.13/lib/python3.13/site-packages (2.3.3)\n",
      "Requirement already satisfied: matplotlib in /Library/Frameworks/Python.framework/Versions/3.13/lib/python3.13/site-packages (3.10.6)\n",
      "Requirement already satisfied: seaborn in /Library/Frameworks/Python.framework/Versions/3.13/lib/python3.13/site-packages (0.13.2)\n",
      "Requirement already satisfied: python-dateutil>=2.8.2 in /Users/ddw/Library/Python/3.13/lib/python/site-packages (from pandas) (2.9.0.post0)\n",
      "Requirement already satisfied: pytz>=2020.1 in /Library/Frameworks/Python.framework/Versions/3.13/lib/python3.13/site-packages (from pandas) (2025.2)\n",
      "Requirement already satisfied: tzdata>=2022.7 in /Library/Frameworks/Python.framework/Versions/3.13/lib/python3.13/site-packages (from pandas) (2025.2)\n",
      "Requirement already satisfied: contourpy>=1.0.1 in /Library/Frameworks/Python.framework/Versions/3.13/lib/python3.13/site-packages (from matplotlib) (1.3.3)\n",
      "Requirement already satisfied: numpy in /Library/Frameworks/Python.framework/Versions/3.13/lib/python3.13/site-packages (2.3.3)\n",
      "Requirement already satisfied: pandas in /Library/Frameworks/Python.framework/Versions/3.13/lib/python3.13/site-packages (2.3.3)\n",
      "Requirement already satisfied: matplotlib in /Library/Frameworks/Python.framework/Versions/3.13/lib/python3.13/site-packages (3.10.6)\n",
      "Requirement already satisfied: seaborn in /Library/Frameworks/Python.framework/Versions/3.13/lib/python3.13/site-packages (0.13.2)\n",
      "Requirement already satisfied: python-dateutil>=2.8.2 in /Users/ddw/Library/Python/3.13/lib/python/site-packages (from pandas) (2.9.0.post0)\n",
      "Requirement already satisfied: pytz>=2020.1 in /Library/Frameworks/Python.framework/Versions/3.13/lib/python3.13/site-packages (from pandas) (2025.2)\n",
      "Requirement already satisfied: tzdata>=2022.7 in /Library/Frameworks/Python.framework/Versions/3.13/lib/python3.13/site-packages (from pandas) (2025.2)\n",
      "Requirement already satisfied: contourpy>=1.0.1 in /Library/Frameworks/Python.framework/Versions/3.13/lib/python3.13/site-packages (from matplotlib) (1.3.3)\n",
      "Requirement already satisfied: cycler>=0.10 in /Library/Frameworks/Python.framework/Versions/3.13/lib/python3.13/site-packages (from matplotlib) (0.12.1)\n",
      "Requirement already satisfied: fonttools>=4.22.0 in /Library/Frameworks/Python.framework/Versions/3.13/lib/python3.13/site-packages (from matplotlib) (4.60.1)\n",
      "Requirement already satisfied: kiwisolver>=1.3.1 in /Library/Frameworks/Python.framework/Versions/3.13/lib/python3.13/site-packages (from matplotlib) (1.4.9)\n",
      "Requirement already satisfied: packaging>=20.0 in /Users/ddw/Library/Python/3.13/lib/python/site-packages (from matplotlib) (25.0)\n",
      "Requirement already satisfied: pillow>=8 in /Library/Frameworks/Python.framework/Versions/3.13/lib/python3.13/site-packages (from matplotlib) (11.3.0)\n",
      "Requirement already satisfied: pyparsing>=2.3.1 in /Library/Frameworks/Python.framework/Versions/3.13/lib/python3.13/site-packages (from matplotlib) (3.2.5)\n",
      "Requirement already satisfied: six>=1.5 in /Users/ddw/Library/Python/3.13/lib/python/site-packages (from python-dateutil>=2.8.2->pandas) (1.17.0)\n",
      "Requirement already satisfied: cycler>=0.10 in /Library/Frameworks/Python.framework/Versions/3.13/lib/python3.13/site-packages (from matplotlib) (0.12.1)\n",
      "Requirement already satisfied: fonttools>=4.22.0 in /Library/Frameworks/Python.framework/Versions/3.13/lib/python3.13/site-packages (from matplotlib) (4.60.1)\n",
      "Requirement already satisfied: kiwisolver>=1.3.1 in /Library/Frameworks/Python.framework/Versions/3.13/lib/python3.13/site-packages (from matplotlib) (1.4.9)\n",
      "Requirement already satisfied: packaging>=20.0 in /Users/ddw/Library/Python/3.13/lib/python/site-packages (from matplotlib) (25.0)\n",
      "Requirement already satisfied: pillow>=8 in /Library/Frameworks/Python.framework/Versions/3.13/lib/python3.13/site-packages (from matplotlib) (11.3.0)\n",
      "Requirement already satisfied: pyparsing>=2.3.1 in /Library/Frameworks/Python.framework/Versions/3.13/lib/python3.13/site-packages (from matplotlib) (3.2.5)\n",
      "Requirement already satisfied: six>=1.5 in /Users/ddw/Library/Python/3.13/lib/python/site-packages (from python-dateutil>=2.8.2->pandas) (1.17.0)\n"
     ]
    }
   ],
   "source": [
    "import numpy as np  # 导入数值计算库\n",
    "import sys  # 访问解释器与系统相关信息\n",
    "print(sys.executable)  # 输出当前 Python 解释器路径，便于确认所用环境\n",
    "!\"{sys.executable}\" -m pip install --upgrade pip  # 在当前解释器环境中升级 pip（注意：每次运行都会执行安装）\n",
    "!\"{sys.executable}\" -m pip install numpy pandas matplotlib seaborn  # 安装所需依赖库（若已安装可注释）\n",
    "\n",
    "import pandas as pd  # 数据分析库\n",
    "import seaborn as sns  # 统计绘图库\n",
    "import matplotlib.pyplot as plt  # 基础绘图接口\n",
    "import seaborn as sns  # 重复导入（无功能影响，可保留以保持原貌）\n",
    "\n",
    "sns.set_style('darkgrid')  # 设定 seaborn 绘图风格为深色网格"
   ]
  },
  {
   "cell_type": "markdown",
   "id": "277932f4",
   "metadata": {},
   "source": [
    "**The Central Limit Theorem** Let $X_1, X_2, \\ldots, X_n, \\ldots$ be a sequence of independent and identically distributed random variables with finite mean $\\mu$ and standard deviation $\\sigma$. Let\n",
    "\n",
    "$$Y_n=\\frac{X_1+X_2+\\cdots +X_n - n\\mu}{\\sqrt{n}\\sigma}.$$\n",
    "\n",
    "Then\n",
    "\n",
    "$$\\lim_{n\\to \\infty}Y_n = \\mathcal{N}(0,1).$$\n",
    "\n",
    "Equivalently, if $F_n(x)=\\mathbb{P}(Y_n\\leq x)$ is cummulative distribution function of $Y_n$, then there is point-wise convergence of functions\n",
    "\n",
    "$$\\lim_{n\\to \\infty}F_n(x) = \\Phi(x)$$\n",
    "\n",
    "Where $\\Phi$ is cummulative distribution function of $\\mathcal{N}(0,1)$, i.e.,\n",
    "\n",
    "$$\\Phi(x) = \\frac{1}{\\sqrt{2\\pi}}\\int_{-\\infty}^xe^{-\\frac{y^2}{2}}\\, dy.$$\n",
    "\n",
    "\n",
    "\n",
    "**Remark** \n",
    "If $\\mathbb{E}[|X_1|^3]<\\infty$, then convergence of the cummulative distribution function of $Y_n$ to $\\Phi$ is uniform.\n",
    "\n",
    "\n",
    "\n",
    "\n",
    "\n",
    "\n",
    "\n",
    "**Implication in Modeling and Probabilistic Methods**\n",
    "\n",
    "The central limit theorem informs of two pieces of important information:\n",
    "\n",
    "1) As we increase the number of simulations we are more likely provided with a more reliable estimate.\n",
    "\n",
    "2) We can measure how likely an estimate differs from the true expected value within a given distance."
   ]
  },
  {
   "cell_type": "markdown",
   "id": "4887bdbb",
   "metadata": {},
   "source": [
    "## Example\n",
    "\n",
    "\n",
    "**Question**: What is the expected value of the roll of a fair dice with $6$ sides?\n",
    "\n",
    "\n",
    "### Mathematical Solution\n",
    "\n",
    "Let $X$ be the random variable of rolling a single dice. The probability distribution has a uniform value of $1/6$ of any possible outcome. Therefore the expected value is\n",
    "\n",
    "$$E[X]=\\frac{1}{6}*1 + \\frac{1}{6}*2 + \\frac{1}{6}*3 + \\frac{1}{6}*4 + \\frac{1}{6}*5 + \\frac{1}{6}*6 = 3.5.$$\n",
    "\n",
    "\n",
    "### Probabilistic Solution\n",
    "\n",
    "Approaching our objective from a probabilistic point of view, we simulate rolling a die many times and take the average of the recorded outcomes."
   ]
  },
  {
   "cell_type": "code",
   "execution_count": 5,
   "id": "48f58c61",
   "metadata": {
    "scrolled": true
   },
   "outputs": [
    {
     "name": "stderr",
     "output_type": "stream",
     "text": [
      "/var/folders/td/w4_djz1s3slfbnjzdl8mcjmr0000gn/T/ipykernel_23975/3588175780.py:1: DeprecationWarning: This function is deprecated. Please call randint(1, 6 + 1) instead\n",
      "  np.random.random_integers(low = 1, high = 6, size = 100)  # 生成100次掷骰结果（函数已被弃用，保留原样，仅作注释）\n"
     ]
    },
    {
     "data": {
      "text/plain": [
       "array([5, 2, 3, 5, 3, 1, 4, 3, 2, 5, 6, 5, 5, 6, 2, 1, 6, 4, 5, 6, 1, 4,\n",
       "       4, 1, 4, 2, 3, 2, 6, 2, 6, 3, 6, 4, 6, 1, 4, 2, 6, 3, 1, 5, 4, 4,\n",
       "       6, 4, 3, 4, 6, 2, 2, 2, 6, 3, 4, 1, 4, 3, 5, 3, 3, 6, 4, 6, 5, 4,\n",
       "       3, 1, 2, 4, 6, 4, 6, 6, 1, 4, 4, 1, 4, 4, 2, 4, 3, 3, 5, 2, 5, 3,\n",
       "       2, 5, 4, 6, 6, 2, 6, 2, 3, 3, 5, 2])"
      ]
     },
     "execution_count": 5,
     "metadata": {},
     "output_type": "execute_result"
    }
   ],
   "source": [
    "np.random.random_integers(low = 1, high = 6, size = 100)  # 生成100次掷骰结果（函数已被弃用，保留原样，仅作注释）"
   ]
  },
  {
   "cell_type": "code",
   "execution_count": 6,
   "id": "1815dc1d",
   "metadata": {},
   "outputs": [
    {
     "name": "stdout",
     "output_type": "stream",
     "text": [
      "average of 10 dice rolls is 44.96\n",
      "-----------------------------\n",
      "average of 100 dice rolls is 49.2\n",
      "-----------------------------\n",
      "average of 1000 dice rolls is 51.3\n",
      "-----------------------------\n",
      "average of 10000 dice rolls is 48.66\n",
      "-----------------------------\n",
      "average of 100000 dice rolls is 49.83\n",
      "-----------------------------\n"
     ]
    }
   ],
   "source": [
    "dice_roll_sims = [10, 100, 1000, 10000, 100000]  # 不同的模拟次数列表（下面代码未真正用到此值，保留原样）\n",
    "\n",
    "for n_sims in dice_roll_sims:  # 循环遍历列表中规模（但内部未使用 n_sims）\n",
    "    dice_rolls = np.random.randint(low = 1, high = 100, size = 100)  # 这里 high=100 与\"掷骰\"语境不符（应是1~6），保留原始逻辑\n",
    "    avg_die = np.mean(dice_rolls)  # 计算这一批100个数的均值\n",
    "    \n",
    "    print(f'average of {n_sims} dice rolls is {avg_die}')  # 打印时使用 n_sims 变量，可能引起误解\n",
    "    print('-----------------------------')"
   ]
  },
  {
   "cell_type": "markdown",
   "id": "2d654424",
   "metadata": {},
   "source": []
  },
  {
   "cell_type": "markdown",
   "id": "37adba29",
   "metadata": {},
   "source": [
    "## Example\n",
    "\n",
    "Use probabilistic methods to estimate the chance of winning a pass-line bet in a game of craps.\n",
    "\n",
    "\n",
    "### Pass Line Bet Craps: (Vegas Rules)\n",
    "\n",
    "\n",
    "### 1. The Come-Out Roll\n",
    " - The game begins with the shooter making a \"come-out\" roll using two six-sided dice.\n",
    " - If the come-out roll is a **7 or 11**, the pass line bet wins (called a \"natural\").\n",
    " - If the come-out roll is **2, 3, or 12**, the pass line bet loses (called \"craps\").\n",
    " - If the come-out roll is **4, 5, 6, 8, 9, or 10**, that number becomes the **point**.\n",
    "\n",
    "### 2. Point Phase\n",
    " - Once the point is established, the shooter continues rolling.\n",
    " - The goal is to roll the **point number again before rolling a 7**.\n",
    "     - If the shooter rolls the point again, pass line bets win.\n",
    "     - If the shooter rolls a **7 before the point**, pass line bets lose (called \"seven out\").\n",
    "     \n",
    "     \n",
    "### Mathematical Solution\n",
    "This is a great exercise to\n",
    "work through to review conditional probability, the total rule of probability, and Baye's Rule. The exact probability of winning is $\\frac{244}{495} \\approx .49293$."
   ]
  },
  {
   "cell_type": "code",
   "execution_count": 10,
   "id": "f936c657",
   "metadata": {},
   "outputs": [],
   "source": [
    "def craps():  # 模拟一局 pass-line bet，返回 1=赢 0=输\n",
    "    come_out = np.sum(np.random.randint(1,7,2))  # come-out：两骰求和\n",
    "    \n",
    "    if come_out in [7,11]:  # 自然赢\n",
    "        return 1\n",
    "    elif come_out in [2,3,12]:  # craps 直接输\n",
    "        return 0\n",
    "    \n",
    "    else:\n",
    "        point = come_out  # 设立 point\n",
    "        \n",
    "        while True:  # 进入循环直到决出结果\n",
    "            dice = np.sum(np.random.randint(1,7,2))  # 再次掷两骰\n",
    "            \n",
    "            if dice == 7:  # 先出 7 则输\n",
    "                return 0\n",
    "            \n",
    "            elif dice == point:  # 重新掷出 point 则赢\n",
    "                return 1"
   ]
  },
  {
   "cell_type": "code",
   "execution_count": 9,
   "id": "34f29ffc",
   "metadata": {},
   "outputs": [],
   "source": [
    "#simulate 1000 games fo craps line bet.\n",
    "# 模拟 1000 局 craps（拼写保留原始）\n",
    "\n",
    "crap_games = [craps() for _ in range(1000)]  # 列表推导生成结果（0或1）\n",
    "win_rate = np.mean(crap_games)  # 计算平均胜率"
   ]
  },
  {
   "cell_type": "code",
   "execution_count": 19,
   "id": "cda0d700",
   "metadata": {},
   "outputs": [
    {
     "name": "stdout",
     "output_type": "stream",
     "text": [
      "Winning percentage over 1000 simulations: 50.3%\n"
     ]
    },
    {
     "data": {
      "text/plain": [
       "<Axes: ylabel='Count'>"
      ]
     },
     "execution_count": 19,
     "metadata": {},
     "output_type": "execute_result"
    },
    {
     "data": {
      "image/png": "[encoded data removed]",
      "text/plain": [
       "<Figure size 640x480 with 1 Axes>"
      ]
     },
     "metadata": {},
     "output_type": "display_data"
    }
   ],
   "source": [
    "#simulate a game of craps 1000 times \n",
    "# 再次模拟 craps 结果（与上一单元略重复）\n",
    "n_sims = 1000\n",
    "results = [craps() for _ in range(n_sims)]  # 重新生成结果列表\n",
    "print(f'Winning percentage over {n_sims} simulations: {win_rate*100}%')  # 注意：这里使用的是上一单元的 win_rate 而不是本行的 results\n",
    "\n",
    "sns.histplot(results, bins = 3, kde = False)  # 绘制直方图（bins=3 对伯努利数据较多余，保留原始设置）"
   ]
  },
  {
   "cell_type": "markdown",
   "id": "0a638acd",
   "metadata": {},
   "source": []
  },
  {
   "cell_type": "markdown",
   "id": "9aaef04e",
   "metadata": {},
   "source": [
    "# **The 68-95-99.7 Rule**\n",
    "\n",
    "If $\\sigma$ is the sample standard deviation of a normal distribution of a repeated simulation with simulated value $E$ with true mean $\\mu$, then there is approximately a $68\\%$ chance that $|E-\\mu|\\leq \\sigma$, approximately a $95\\%$ that $|E-\\mu|\\leq 2\\sigma$, and a $99.7\\%$ chance that $|E-\\mu|\\leq 3\\sigma$."
   ]
  },
  {
   "cell_type": "code",
   "execution_count": 20,
   "id": "7e0f0e55",
   "metadata": {},
   "outputs": [],
   "source": [
    "### Simulate the following experiment 1000 times\n",
    "## Experiment: Take the average of 500 rolls of two dice\n",
    "\n",
    "\n",
    "#Remark: The average of 500 random experiments approximates a normal distribution by the Central Limit Theorem.\n",
    "\n",
    "#We therefore expect the 60-95-99.7 rule to apply."
   ]
  },
  {
   "cell_type": "code",
   "execution_count": 22,
   "id": "dd168f26",
   "metadata": {},
   "outputs": [],
   "source": [
    "# Slow version: loop-based simulation\n",
    "# 慢速版本：逐次循环模拟\n",
    "# 目标：一次实验=掷两颗骰子 n_rolls 次，取和的均值；重复 n_sims 次，研究均值分布\n",
    "n_sims = 1000\n",
    "n_rolls = 500\n",
    "results = []\n",
    "for _ in range(n_sims):\n",
    "    rolls = np.random.randint(1,7,(n_rolls,2))  # 形状 (n_rolls, 2)\n",
    "    sums = np.sum(rolls, axis=1)  # 每次两骰之和，理论期望为 7\n",
    "    avg = np.mean(sums)\n",
    "    results.append(avg)  # 收集该实验的均值\n",
    "# results 为长度 n_sims 的样本均值序列"
   ]
  },
  {
   "cell_type": "code",
   "execution_count": 23,
   "id": "31fe4db4",
   "metadata": {},
   "outputs": [],
   "source": [
    "# Convert list to array and calculate sample standard deviation\n",
    "# 将列表转为数组并计算样本标准差 (总体/样本差异在此影响很小)\n",
    "simulated_means = np.array(results)\n",
    "sigma = np.std(simulated_means, ddof=1)  # 使用无偏估计 ddof=1"
   ]
  },
  {
   "cell_type": "code",
   "execution_count": 27,
   "id": "a55a9af1",
   "metadata": {},
   "outputs": [
    {
     "name": "stdout",
     "output_type": "stream",
     "text": [
      "1σ coverage: 67.80% (theory ~68%)\n",
      "2σ coverage: 95.90% (theory ~95%)\n",
      "3σ coverage: 99.70% (theory ~99.7%)\n"
     ]
    }
   ],
   "source": [
    "# Test 68-95-99.7 empirical rule coverage\n",
    "# 检验 68-95-99.7 经验法则覆盖率\n",
    "# 理论均值为 7（两颗独立公平骰子的和的期望：E=3.5+3.5=7）\n",
    "within_one_std = np.abs(simulated_means - 7) < sigma\n",
    "within_two_std = np.abs(simulated_means - 7) < 2*sigma\n",
    "within_three_std = np.abs(simulated_means - 7) < 3*sigma    \n",
    "\n",
    "print(f'1σ coverage: {np.mean(within_one_std)*100:.2f}% (theory ~68%)')  # 1σ 覆盖率: 理论~68%\n",
    "print(f'2σ coverage: {np.mean(within_two_std)*100:.2f}% (theory ~95%)')  # 2σ 覆盖率: 理论~95%\n",
    "print(f'3σ coverage: {np.mean(within_three_std)*100:.2f}% (theory ~99.7%)')  # 3σ 覆盖率: 理论~99.7%"
   ]
  },
  {
   "cell_type": "code",
   "execution_count": 28,
   "id": "33fa806a",
   "metadata": {},
   "outputs": [
    {
     "name": "stdout",
     "output_type": "stream",
     "text": [
      "1σ coverage: 69.54%\n",
      "2σ coverage: 95.48%\n",
      "3σ coverage: 99.79%\n"
     ]
    }
   ],
   "source": [
    "# Fast version: fully vectorized\n",
    "# 快速版本：完全向量化\n",
    "# 注意：这里原来 n_rolls=50 与前面\"500\"有差异，可根据需要调一致。这里保留 50 展示更快但方差稍大的情形。\n",
    "\n",
    "n_experiments = 10000\n",
    "n_rolls = 50\n",
    "# Generate shape (n_experiments, n_rolls, 2) integer array representing all dice results for each experiment\n",
    "# 生成形状 (n_experiments, n_rolls, 2) 的整数数组，表示每次实验所有骰子结果\n",
    "raw = np.random.randint(1,7,(n_experiments,n_rolls,2))\n",
    "# Sum last dimension to get two-dice sum for each roll, then take mean over second dimension to get experiment mean\n",
    "# 先对最后一维求和得到每次 roll 的两骰和，再对第二维取均值得到每个实验的均值\n",
    "simulated_means = np.mean(np.sum(raw, axis=2), axis=1)\n",
    "sigma = np.std(simulated_means, ddof=1)\n",
    "\n",
    "within_one_std = np.abs(simulated_means - 7) < sigma\n",
    "within_two_std = np.abs(simulated_means - 7) < 2*sigma\n",
    "within_three_std = np.abs(simulated_means - 7) < 3*sigma\n",
    "\n",
    "print(f'1σ coverage: {np.mean(within_one_std)*100:.2f}%')  # 1σ 覆盖率\n",
    "print(f'2σ coverage: {np.mean(within_two_std)*100:.2f}%')  # 2σ 覆盖率\n",
    "print(f'3σ coverage: {np.mean(within_three_std)*100:.2f}%')  # 3σ 覆盖率"
   ]
  },
  {
   "cell_type": "code",
   "execution_count": 34,
   "id": "70a0a8de",
   "metadata": {},
   "outputs": [
    {
     "data": {
      "image/png": "[encoded data removed]",
      "text/plain": [
       "<Figure size 1000x800 with 1 Axes>"
      ]
     },
     "metadata": {},
     "output_type": "display_data"
    }
   ],
   "source": [
    "# Visualize sample mean distribution showing approximate normal shape (Central Limit Theorem)\n",
    "# 可视化样本均值分布，展示近似正态形状（中心极限定理）\n",
    "plt.figure(figsize = (10,8))\n",
    "plt.hist(simulated_means, bins = 30, alpha = 0.7, color = 'red')\n",
    "plt.title('Simulated Distribution of Dice Mean (Central Limit Theorem Example)')  # 两骰均值的模拟分布 (中心极限定理示例)\n",
    "plt.xlabel('Experiment Mean')  # 实验均值\n",
    "plt.ylabel('Frequency')  # 频数\n",
    "plt.axvline(7, color='black', linestyle='--', label='Theoretical Mean 7')  # 理论均值 7\n",
    "plt.legend()\n",
    "plt.show()"
   ]
  },
  {
   "cell_type": "code",
   "execution_count": null,
   "id": "6fec1ec2",
   "metadata": {},
   "outputs": [],
   "source": []
  },
  {
   "cell_type": "code",
   "execution_count": null,
   "id": "222b8208",
   "metadata": {},
   "outputs": [],
   "source": []
  },
  {
   "cell_type": "markdown",
   "id": "84641660",
   "metadata": {},
   "source": [
    "**Question**: Consider the uniform distribution on the unit interval $[0,1]$. \n",
    "\n",
    "What is the expected number of draws needed for the sum to exceed $1$?"
   ]
  },
  {
   "cell_type": "code",
   "execution_count": 35,
   "id": "dc228ee4",
   "metadata": {},
   "outputs": [],
   "source": [
    "def draw_until_one() -> int:\n",
    "    \"\"\"Continuously sample from U(0,1) and accumulate until sum >= 1, return number of draws needed.\n",
    "    持续从 U(0,1) 独立抽样累加，直到总和 ≥ 1 时停止，返回所需抽样次数。\n",
    "    Classic result: expected number approaches e ≈ 2.71828.\n",
    "    经典结果：期望次数趋近 e ≈ 2.71828。\n",
    "    \"\"\"\n",
    "    draws = 0\n",
    "    total_sum = 0.0\n",
    "    while True:\n",
    "        draws += 1\n",
    "        total_sum += np.random.rand()  # U(0,1) sample # U(0,1) 样本\n",
    "        if total_sum >= 1:\n",
    "            return draws"
   ]
  },
  {
   "cell_type": "code",
   "execution_count": 36,
   "id": "c0881198",
   "metadata": {},
   "outputs": [
    {
     "name": "stdout",
     "output_type": "stream",
     "text": [
      "Simulated average draws: 2.71408 (theoretical e = 2.71828)\n",
      "Sample variance estimate: 0.75956\n"
     ]
    }
   ],
   "source": [
    "# Simulate multiple times to estimate expected number of draws\n",
    "# 模拟多次以估计期望抽样次数\n",
    "n_trials = 100_000\n",
    "samples = [draw_until_one() for _ in range(n_trials)]\n",
    "mean_est = np.mean(samples)\n",
    "var_est = np.var(samples, ddof=1)\n",
    "print(f'Simulated average draws: {mean_est:.5f} (theoretical e = {np.e:.5f})')  # 模拟平均次数: 理论 e =\n",
    "print(f'Sample variance estimate: {var_est:.5f}')  # 样本方差估计:\n",
    "# Can add distribution visualization:\n",
    "# 可增加分布可视化：\n",
    "# sns.histplot(samples, discrete=True)\n",
    "# plt.show()"
   ]
  },
  {
   "cell_type": "code",
   "execution_count": null,
   "id": "6958298a",
   "metadata": {},
   "outputs": [],
   "source": []
  },
  {
   "cell_type": "code",
   "execution_count": 37,
   "id": "f985030c",
   "metadata": {},
   "outputs": [],
   "source": [
    "# (Already merged to previous cell) For quick re-estimation if needed:\n",
    "# （已合并到前一单元）若需再次快速估计，可调用：\n",
    "# np.mean([draw_until_one() for _ in range(50_000)])"
   ]
  },
  {
   "cell_type": "code",
   "execution_count": 38,
   "id": "29d42c57",
   "metadata": {},
   "outputs": [
    {
     "data": {
      "text/plain": [
       "2.718281828459045"
      ]
     },
     "execution_count": 38,
     "metadata": {},
     "output_type": "execute_result"
    }
   ],
   "source": [
    "# Numerical value of e (theoretical expectation)\n",
    "# e 的数值（理论期望）\n",
    "np.e"
   ]
  },
  {
   "cell_type": "code",
   "execution_count": null,
   "id": "545616d9",
   "metadata": {},
   "outputs": [],
   "source": []
  },
  {
   "cell_type": "code",
   "execution_count": null,
   "id": "acead138",
   "metadata": {},
   "outputs": [],
   "source": []
  },
  {
   "cell_type": "code",
   "execution_count": null,
   "id": "87a27796",
   "metadata": {},
   "outputs": [],
   "source": []
  }
 ],
 "metadata": {
  "kernelspec": {
   "display_name": "Python 3",
   "language": "python",
   "name": "python3"
  },
  "language_info": {
   "codemirror_mode": {
    "name": "ipython",
    "version": 3
   },
   "file_extension": ".py",
   "mimetype": "text/x-python",
   "name": "python",
   "nbconvert_exporter": "python",
   "pygments_lexer": "ipython3",
   "version": "3.13.5"
  }
 },
 "nbformat": 4,
 "nbformat_minor": 5
}

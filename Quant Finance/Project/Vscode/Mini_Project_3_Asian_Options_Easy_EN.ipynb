{
 "cells": [
  {
   "cell_type": "markdown",
   "id": "b4a7d5b7",
   "metadata": {},
   "source": [
    "\n",
    "# Mini Project 3 — **Asian Options**\n",
    "\n",
    "This project focuses on an **exotic option**: the **Asian option**.\n",
    "\n",
    "You will:\n",
    "- Price **geometric-average Asian options** with **closed forms** (continuous sampling and equally spaced discrete sampling).\n",
    "- Price **arithmetic-average Asian options** via **Monte Carlo**.\n",
    "- Use **control variates** (geometric Asian) to reduce Monte Carlo variance.\n",
    "- Visualize **convergence** with respect to the number of paths or the number of sampling steps.\n"
   ]
  },
  {
   "cell_type": "markdown",
   "id": "ffe68ace",
   "metadata": {},
   "source": [
    "\n",
    "## 1) Background and notation\n",
    "\n",
    "Under the risk‑neutral measure, the underlying follows geometric Brownian motion.\n",
    "\n",
    "$$\n",
    "dS_t \\;=\\; S_t \\,\\big((r-q)\\,dt + \\sigma\\,dW_t\\big)\\,.\n",
    "$$\n",
    "\n",
    "For equally spaced discrete sampling with $ N $ points at $ t_i = i\\Delta t $ and $ \\Delta t = T/N $, define the **geometric** and **arithmetic** averages.\n",
    "\n",
    "$$\n",
    "G_N \\;=\\; \\exp\\!\\Big(\\frac{1}{N}\\sum_{i=1}^N \\ln S_{t_i}\\Big), \\qquad\n",
    "A_N \\;=\\; \\frac{1}{N}\\sum_{i=1}^N S_{t_i}\\,.\n",
    "$$\n",
    "\n",
    "For **continuous sampling**, the geometric average is\n",
    "\n",
    "$$\n",
    "G_{\\text{cont}} \\;=\\; \\exp\\!\\Big(\\frac{1}{T}\\int_0^T \\ln S_t \\, dt\\Big)\\,.\n",
    "$$\n",
    "\n",
    "European Asian call/put payoff at maturity $ T $:\n",
    "\n",
    "$$\n",
    "\\text{Call payoff} = \\max(\\,\\text{Average} - K,\\,0\\,), \\qquad\n",
    "\\text{Put payoff}  = \\max(\\,K - \\text{Average},\\,0\\,)\\,.\n",
    "$$\n"
   ]
  },
  {
   "cell_type": "markdown",
   "id": "a697de44",
   "metadata": {},
   "source": [
    "\n",
    "## 2) Setup\n"
   ]
  },
  {
   "cell_type": "code",
   "execution_count": 9,
   "id": "a6117b76",
   "metadata": {},
   "outputs": [],
   "source": [
    "\n",
    "import math\n",
    "import numpy as np\n",
    "import pandas as pd\n",
    "import matplotlib.pyplot as plt\n",
    "\n",
    "plt.rcParams[\"figure.figsize\"] = (8, 4)\n",
    "np.random.seed(2)\n",
    "\n",
    "# Standard normal CDF via erf\n",
    "from math import erf\n",
    "def Phi(x):\n",
    "    return 0.5*(1.0 + erf(x / math.sqrt(2.0)))\n"
   ]
  },
  {
   "cell_type": "markdown",
   "id": "f107ad55",
   "metadata": {},
   "source": [
    "\n",
    "## 3) Geometric Asian (continuous sampling)\n",
    "\n",
    "Let\n",
    "\n",
    "$$\n",
    "Y \\;=\\; \\frac{1}{T}\\int_0^T \\ln S_t \\, dt\\,.\n",
    "$$\n",
    "\n",
    "Under GBM, $ Y $ is normally distributed with\n",
    "\n",
    "$$\n",
    "\\mathbb{E}[Y] \\;=\\; \\ln S_0 + \\big(r - q - \\tfrac{1}{2}\\sigma^2\\big)\\,\\frac{T}{2}\\,,\n",
    "\\qquad\n",
    "\\operatorname{Var}(Y) \\;=\\; \\sigma^2\\,\\frac{T}{3}\\,.\n",
    "$$\n",
    "\n",
    "Hence $ G_{\\text{cont}} = e^Y $ is lognormal. The geometric‑Asian European **call** price is\n",
    "\n",
    "$$\n",
    "C_{\\text{geo,cont}} \\;=\\; e^{-rT}\\,\\Big( e^{\\,m + \\tfrac{v}{2}}\\,\\Phi(d_1) \\;-\\; K\\,\\Phi(d_2) \\Big)\\,,\n",
    "$$\n",
    "\n",
    "with\n",
    "\n",
    "$$\n",
    "m \\;=\\; \\mathbb{E}[Y],\\quad v \\;=\\; \\operatorname{Var}(Y),\\quad\n",
    "d_1 \\;=\\; \\frac{m + v - \\ln K}{\\sqrt{v}},\\quad d_2 \\;=\\; d_1 - \\sqrt{v}\\,.\n",
    "$$\n",
    "\n",
    "The **put** follows by symmetry or put–call parity.\n"
   ]
  },
  {
   "cell_type": "code",
   "execution_count": 20,
   "id": "f1fc1c06",
   "metadata": {},
   "outputs": [
    {
     "name": "stdout",
     "output_type": "stream",
     "text": [
      "Geo-Cont Call: 5.0865\n",
      "Geo-Cont Put : 3.9477\n"
     ]
    }
   ],
   "source": [
    "\n",
    "def geometric_asian_cont_call(S0, K, r, q, sigma, T):\n",
    "    # Closed-form geometric Asian call with continuous sampling\n",
    "    m = math.log(S0) + (r - q - 0.5*sigma*sigma)*(T/2.0)\n",
    "    v = sigma*sigma * (T/3.0)\n",
    "    sqrtv = math.sqrt(v)\n",
    "    d1 = (m + v - math.log(K)) / sqrtv\n",
    "    d2 = d1 - sqrtv\n",
    "    return math.exp(-r*T)*( math.exp(m + 0.5*v)*Phi(d1) - K*Phi(d2) )\n",
    "\n",
    "def geometric_asian_cont_put(S0, K, r, q, sigma, T):\n",
    "    # Closed-form geometric Asian put (continuous sampling)\n",
    "    m = math.log(S0) + (r - q - 0.5*sigma*sigma)*(T/2.0)\n",
    "    v = sigma*sigma * (T/3.0)\n",
    "    sqrtv = math.sqrt(v)\n",
    "    d1 = (m + v - math.log(K)) / sqrtv\n",
    "    d2 = d1 - sqrtv\n",
    "    return math.exp(-r*T)*( K*Phi(-d2) - math.exp(m + 0.5*v)*Phi(-d1) )\n",
    "\n",
    "# quick check\n",
    "print(\"Geo-Cont Call:\", round(geometric_asian_cont_call(100, 100, 0.03, 0.0, float(sigma_hat), 1.0), 4))\n",
    "print(\"Geo-Cont Put :\", round(geometric_asian_cont_put(100, 100, 0.03, 0.0, float(sigma_hat), 1.0), 4))\n"
   ]
  },
  {
   "cell_type": "markdown",
   "id": "2af9447a",
   "metadata": {},
   "source": [
    "\n",
    "## 4) Geometric Asian (equally spaced discrete sampling)\n",
    "\n",
    "For $ t_i = i\\Delta t $ with $ \\Delta t = T/N $ and $ i=1,\\dots,N $, define\n",
    "\n",
    "$$\n",
    "Y_N \\;=\\; \\frac{1}{N}\\sum_{i=1}^N \\ln S_{t_i}\\,.\n",
    "$$\n",
    "\n",
    "Standard results for equally spaced sampling give\n",
    "\n",
    "$$\n",
    "\\mathbb{E}[Y_N] \\;=\\; \\ln S_0 \\;+\\; \\big(r - q - \\tfrac{1}{2}\\sigma^2\\big)\\,\\frac{T(N+1)}{2N}\\,,\n",
    "$$\n",
    "\n",
    "$$\n",
    "\\operatorname{Var}(Y_N) \\;=\\; \\sigma^2 \\, T \\,\\frac{(N+1)(2N+1)}{6N^2}\\,.\n",
    "$$\n",
    "\n",
    "Therefore $ G_N = e^{Y_N} $ is lognormal. The geometric‑Asian **call** price is\n",
    "\n",
    "$$\n",
    "C_{\\text{geo,disc}} \\;=\\; e^{-rT}\\,\\Big( e^{\\,m_N + \\tfrac{v_N}{2}}\\,\\Phi(d_1) \\;-\\; K\\,\\Phi(d_2) \\Big)\\,,\n",
    "$$\n",
    "\n",
    "with\n",
    "\n",
    "$$\n",
    "m_N \\;=\\; \\mathbb{E}[Y_N],\\quad v_N \\;=\\; \\operatorname{Var}(Y_N),\\quad\n",
    "d_1 \\;=\\; \\frac{m_N + v_N - \\ln K}{\\sqrt{v_N}},\\quad d_2 \\;=\\; d_1 - \\sqrt{v_N}\\,.\n",
    "$$\n"
   ]
  },
  {
   "cell_type": "code",
   "execution_count": 22,
   "id": "eb8515f7",
   "metadata": {},
   "outputs": [
    {
     "name": "stdout",
     "output_type": "stream",
     "text": [
      "Geo-Disc Call (N=12): 5.4353\n",
      "Geo-Disc Put  (N=12): 4.1714\n"
     ]
    }
   ],
   "source": [
    "\n",
    "def geometric_asian_disc_call(S0, K, r, q, sigma, T, N):\n",
    "    # Closed-form geometric Asian call with equally spaced discrete sampling\n",
    "    mN = math.log(S0) + (r - q - 0.5*sigma*sigma) * (T*(N+1)/(2.0*N))\n",
    "    vN = (sigma*sigma) * T * ((N+1)*(2*N+1)/(6.0*N*N))\n",
    "    sqrtv = math.sqrt(vN)\n",
    "    d1 = (mN + vN - math.log(K)) / sqrtv\n",
    "    d2 = d1 - sqrtv\n",
    "    return math.exp(-r*T)*( math.exp(mN + 0.5*vN)*Phi(d1) - K*Phi(d2) )\n",
    "\n",
    "def geometric_asian_disc_put(S0, K, r, q, sigma, T, N):\n",
    "    mN = math.log(S0) + (r - q - 0.5*sigma*sigma) * (T*(N+1)/(2.0*N))\n",
    "    vN = (sigma*sigma) * T * ((N+1)*(2*N+1)/(6.0*N*N))\n",
    "    sqrtv = math.sqrt(vN)\n",
    "    d1 = (mN + vN - math.log(K)) / sqrtv\n",
    "    d2 = d1 - sqrtv\n",
    "    return math.exp(-r*T)*( K*Phi(-d2) - math.exp(mN + 0.5*vN)*Phi(-d1) )\n",
    "\n",
    "# quick check\n",
    "print(\"Geo-Disc Call (N=12):\", round(geometric_asian_disc_call(100, 100, 0.03, 0.0, float(sigma_hat), 1.0, 12), 4))\n",
    "print(\"Geo-Disc Put  (N=12):\", round(geometric_asian_disc_put(100, 100, 0.03, 0.0, float(sigma_hat), 1.0, 12), 4))\n"
   ]
  },
  {
   "cell_type": "markdown",
   "id": "d324e1d2",
   "metadata": {},
   "source": [
    "\n",
    "## 5) Arithmetic Asian (discrete sampling) — Monte Carlo\n",
    "\n",
    "With $ N $ equally spaced observations, the arithmetic average is\n",
    "\n",
    "$$\n",
    "A_N \\;=\\; \\frac{1}{N}\\sum_{i=1}^N S_{t_i}\\,.\n",
    "$$\n",
    "\n",
    "Under GBM, simulate paths with\n",
    "\n",
    "$$\n",
    "S_{t+\\Delta t} \\;=\\; S_t \\,\\exp\\!\\Big((r-q - \\tfrac{1}{2}\\sigma^2)\\,\\Delta t + \\sigma\\sqrt{\\Delta t}\\,Z\\Big), \\quad Z\\sim\\mathcal{N}(0,1)\\,.\n",
    "$$\n",
    "\n",
    "Monte Carlo price for a European **call**:\n",
    "\n",
    "$$\n",
    "C_{\\text{arith,MC}} \\;\\approx\\; e^{-rT}\\cdot \\frac{1}{M}\\sum_{m=1}^M \\max(A_N^{(m)} - K,\\,0)\\,.\n",
    "$$\n"
   ]
  },
  {
   "cell_type": "code",
   "execution_count": 14,
   "id": "c6541624",
   "metadata": {},
   "outputs": [
    {
     "name": "stdout",
     "output_type": "stream",
     "text": [
      "Arithmetic Asian (MC, N=12, M=10000): 5.5276 ± 0.1608\n"
     ]
    }
   ],
   "source": [
    "\n",
    "def simulate_gbm_paths(S0, r, q, sigma, T, N_steps, M_paths, seed=42):\n",
    "    # Simulate M_paths GBM paths with N_steps steps\n",
    "    np.random.seed(seed)\n",
    "    dt = T / N_steps\n",
    "    Z = np.random.normal(size=(M_paths, N_steps))\n",
    "    S = np.empty((M_paths, N_steps+1))\n",
    "    S[:, 0] = S0\n",
    "    drift = (r - q - 0.5*sigma*sigma) * dt\n",
    "    vol   = sigma * math.sqrt(dt)\n",
    "    for t in range(1, N_steps+1):\n",
    "        S[:, t] = S[:, t-1] * np.exp(drift + vol*Z[:, t-1])\n",
    "    return S\n",
    "\n",
    "def asian_arith_mc_call(S0, K, r, q, sigma, T, N_steps, M_paths=20000, seed=42):\n",
    "    S = simulate_gbm_paths(S0, r, q, sigma, T, N_steps, M_paths, seed=seed)\n",
    "    A = np.mean(S[:, 1:], axis=1)  # drop S0, average future points\n",
    "    payoff = np.maximum(A - K, 0.0)\n",
    "    disc = math.exp(-r*T)\n",
    "    return disc * float(np.mean(payoff)), disc * float(np.std(payoff)/math.sqrt(M_paths))\n",
    "\n",
    "# quick check\n",
    "price, se = asian_arith_mc_call(100, 100, 0.03, 0.0, float(sigma_hat), 1.0, 12, 10000, seed=7)\n",
    "print(f\"Arithmetic Asian (MC, N=12, M=10000): {price:.4f} ± {1.96*se:.4f}\")\n"
   ]
  },
  {
   "cell_type": "markdown",
   "id": "a3fff439",
   "metadata": {},
   "source": [
    "\n",
    "## 6) Control variate: use geometric Asian to improve Monte Carlo\n",
    "\n",
    "Compute, on the same paths, both arithmetic and geometric averages. Define\n",
    "\n",
    "$$\n",
    "\\widehat{C}_{\\text{CV}} \\;=\\; \\widehat{C}_{\\text{arith,MC}} \\;-\\; \\beta\\Big(\\widehat{C}_{\\text{geo,MC}} \\;-\\; C_{\\text{geo,disc}}\\Big)\\,,\n",
    "$$\n",
    "\n",
    "where $ C_{\\text{geo,disc}} $ is the **closed‑form** geometric‑Asian **discrete** price, and $ \\beta $ is chosen approximately optimal as sample $ \\mathrm{Cov}(X,Y) / \\mathrm{Var}(Y) $.\n"
   ]
  },
  {
   "cell_type": "code",
   "execution_count": 19,
   "id": "ece3e22d",
   "metadata": {},
   "outputs": [
    {
     "name": "stdout",
     "output_type": "stream",
     "text": [
      "Plain MC : 5.6307 ± 0.1618\n",
      "CV   MC  : 5.4658 ± 0.0043 (beta≈1.03)\n"
     ]
    }
   ],
   "source": [
    "\n",
    "def asian_arith_mc_call_cv(S0, K, r, q, sigma, T, N_steps, M_paths=20000, seed=42):\n",
    "    S = simulate_gbm_paths(S0, r, q, sigma, T, N_steps, M_paths, seed=seed)\n",
    "    A = np.mean(S[:, 1:], axis=1)\n",
    "    G = np.exp(np.mean(np.log(S[:, 1:]), axis=1))\n",
    "\n",
    "    payoff_arith = np.maximum(A - K, 0.0)\n",
    "    payoff_geo   = np.maximum(G - K, 0.0)\n",
    "\n",
    "    disc = math.exp(-r*T)\n",
    "    X = payoff_arith\n",
    "    Y = payoff_geo\n",
    "\n",
    "    cov_xy = np.cov(X, Y, ddof=1)[0,1]\n",
    "    var_y  = np.var(Y, ddof=1)\n",
    "    beta = 0.0 if var_y == 0 else (cov_xy / var_y)\n",
    "\n",
    "    C_geo_disc = geometric_asian_disc_call(S0, K, r, q, sigma, T, N_steps)\n",
    "\n",
    "    est = X - beta*(Y - C_geo_disc)\n",
    "    mean = float(np.mean(est))\n",
    "    se   = float(np.std(est, ddof=1)/math.sqrt(M_paths))\n",
    "    return disc*mean, disc*se, beta\n",
    "\n",
    "# demo: plain MC vs control‑variate MC\n",
    "S0, K, r, q, sigma, T, N, M = 100, 100, 0.03, 0.0, float(sigma_hat), 1.0, 12, 10000\n",
    "plain, se_plain = asian_arith_mc_call(S0, K, r, q, sigma, T, N, M, seed=123)\n",
    "cv_est, se_cv, beta = asian_arith_mc_call_cv(S0, K, r, q, sigma, T, N, M, seed=123)\n",
    "print(f\"Plain MC : {plain:.4f} ± {1.96*se_plain:.4f}\")\n",
    "print(f\"CV   MC  : {cv_est:.4f} ± {1.96*se_cv:.4f} (beta≈{beta:.2f})\")\n"
   ]
  },
  {
   "cell_type": "markdown",
   "id": "68dceb02",
   "metadata": {},
   "source": [
    "\n",
    "## 7) Convergence demos and quick summary\n",
    "\n",
    "We examine how the arithmetic‑Asian MC estimate behaves when increasing the number of **paths $ M $** or the number of **steps $ N $**.\n"
   ]
  },
  {
   "cell_type": "code",
   "execution_count": 25,
   "id": "522b39b8",
   "metadata": {},
   "outputs": [
    {
     "data": {
      "image/png": "[encoded data removed]",
      "text/plain": [
       "<Figure size 800x400 with 1 Axes>"
      ]
     },
     "metadata": {},
     "output_type": "display_data"
    },
    {
     "data": {
      "image/png": "[encoded data removed]",
      "text/plain": [
       "<Figure size 800x400 with 1 Axes>"
      ]
     },
     "metadata": {},
     "output_type": "display_data"
    }
   ],
   "source": [
    "\n",
    "S0, K, r, q, sigma, T = 100, 100, 0.03, 0.0, float(sigma_hat), 1.0\n",
    "\n",
    "# Fix N, increase M\n",
    "N_fix = 12\n",
    "M_list = [1000, 3000, 5000, 10000, 20000]\n",
    "ests_plain, errs_plain = [], []\n",
    "ests_cv, errs_cv = [], []\n",
    "\n",
    "for M in M_list:\n",
    "    est_p, se_p = asian_arith_mc_call(S0, K, r, q, sigma, T, N_fix, M, seed=42)\n",
    "    est_c, se_c, _ = asian_arith_mc_call_cv(S0, K, r, q, sigma, T, N_fix, M, seed=42)\n",
    "    ests_plain.append(est_p); errs_plain.append(1.96*se_p)\n",
    "    ests_cv.append(est_c);   errs_cv.append(1.96*se_c)\n",
    "\n",
    "plt.figure()\n",
    "plt.errorbar(M_list, ests_plain, yerr=errs_plain, fmt='o-', label=\"Plain MC (±95% CI)\")\n",
    "plt.errorbar(M_list, ests_cv,    yerr=errs_cv,    fmt='o-', label=\"CV MC (±95% CI)\")\n",
    "plt.title(\"Arithmetic Asian (fixed N=12): convergence as M increases\")\n",
    "plt.xlabel(\"Number of paths M\")\n",
    "plt.ylabel(\"Price estimate\")\n",
    "plt.legend()\n",
    "plt.tight_layout()\n",
    "plt.show()\n",
    "\n",
    "# Fix M, increase N\n",
    "M_fix = 10000\n",
    "N_list = [6, 12, 24, 48]\n",
    "estsN, errsN = [], []\n",
    "for N in N_list:\n",
    "    est_p, se_p = asian_arith_mc_call(S0, K, r, q, sigma, T, N, M_fix, seed=7)\n",
    "    estsN.append(est_p); errsN.append(1.96*se_p)\n",
    "\n",
    "plt.figure()\n",
    "plt.errorbar(N_list, estsN, yerr=errsN, fmt='o-')\n",
    "plt.title(\"Arithmetic Asian (fixed M=10000): convergence as N increases\")\n",
    "plt.xlabel(\"Number of steps N\")\n",
    "plt.ylabel(\"Price estimate (±95% CI)\")\n",
    "plt.tight_layout()\n",
    "plt.show()\n"
   ]
  }
 ],
 "metadata": {
  "kernelspec": {
   "display_name": "Python 3",
   "language": "python",
   "name": "python3"
  },
  "language_info": {
   "codemirror_mode": {
    "name": "ipython",
    "version": 3
   },
   "file_extension": ".py",
   "mimetype": "text/x-python",
   "name": "python",
   "nbconvert_exporter": "python",
   "pygments_lexer": "ipython3",
   "version": "3.13.5"
  }
 },
 "nbformat": 4,
 "nbformat_minor": 5
}

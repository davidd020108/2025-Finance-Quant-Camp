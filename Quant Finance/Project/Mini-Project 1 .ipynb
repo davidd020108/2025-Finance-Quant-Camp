{
 "cells": [
  {
   "cell_type": "markdown",
   "id": "f06b0ee1",
   "metadata": {},
   "source": [
    "<!--\n",
    "Notebook: Mini-Project 1\n",
    "目的：量化金融练习与小型项目记录\n",
    "作者：<在此填写>\n",
    "日期：2025-10-07\n",
    "\n",
    "注意：这是隐藏注释（HTML 注释），在渲染时不会显示。\n",
    "TODO：\n",
    "- [ ] 明确数据来源与下载方式\n",
    "- [ ] 定义评价指标（如年化收益、夏普比率、最大回撤）\n",
    "- [ ] 列出实验分组与超参数\n",
    "- [ ] 在结尾加上局限性与改进方向\n",
    "\n",
    "小贴士：Markdown 中“# 标题”不是注释；如果需要真正隐藏内容，请使用 <!-- ... -->。\n",
    "-->\n"
   ]
  },
  {
   "cell_type": "markdown",
   "id": "6826c6f5",
   "metadata": {},
   "source": [
    "\n",
    "# Mini Project — European vs American Options\n",
    "\n",
    "This mini project shows the **difference between European and American options**\n",
    "using a very simple and classic model: the **Cox–Ross–Rubinstein (CRR) binomial tree**.\n",
    "\n",
    "**You will:**\n",
    "- Implement pricing for **European** and **American** options (calls & puts).\n",
    "- See that for **non‑dividend** stocks, **American call = European call**.\n",
    "- See that **American put ≥ European put** due to early exercise.\n",
    "- Check that **binomial European** price approaches **Black–Scholes** as steps increase.\n"
   ]
  },
  {
   "cell_type": "markdown",
   "id": "104fd337",
   "metadata": {},
   "source": [
    "\n",
    "## What this project means \n",
    "\n",
    "This mini project builds and compares option pricing models to understand when and why American options differ from European options. We use:\n",
    "- A binomial tree (Cox–Ross–Rubinstein, CRR) to price both European and American options.\n",
    "- Black–Scholes (BS) as a reference for European options. As the number of binomial steps N increases, CRR converges to BS.\n",
    "\n",
    "Why it matters:\n",
    "- American options allow early exercise; European options do not. Understanding the early‑exercise value is fundamental for pricing and risk.\n",
    "- For non‑dividend equities, an American call has no early‑exercise premium (≈ European call). Puts can have early‑exercise value (American ≥ European).\n",
    "\n",
    "### Symbols / Parameters \n",
    "- S: Spot price of the underlying asset (标的现价)\n",
    "- K: Strike price (行权价)\n",
    "- r: Continuously‑compounded risk‑free rate (无风险利率)\n",
    "- q: Continuous dividend yield or convenience yield (分红/便利收益率)\n",
    "- σ (sigma): Volatility (波动率)\n",
    "- T: Time to maturity in years (到期时间，单位年)\n",
    "- N: Number of binomial steps (二叉树步数)\n",
    "- Δt = T/N: Time step\n",
    "- u = e^{σ√Δt}, d = 1/u: Up/Down multipliers\n",
    "- p = (e^{(r−q)Δt} − d)/(u − d): Risk‑neutral probability\n",
    "- disc = e^{−rΔt}: One‑step discount factor\n",
    "\n",
    "### What each section does \n",
    "1. Setup: imports and plotting defaults.\n",
    "2. Black–Scholes: closed‑form price for European options; we use it as a convergence check.\n",
    "3. CRR Binomial (European & American): core pricer. European uses continuation values; American takes max(continuation, intrinsic).\n",
    "4. Examples: compute and compare call/put prices across styles (European vs American) and to BS for calls.\n",
    "5. Convergence plot: show CRR European call → BS as N grows.\n",
    "6. American put policy grid: visualize at which nodes early exercise is optimal (1 = exercise, 0 = continue).\n",
    "\n",
    "### How to experiment \n",
    "- Change S, K, r, q, σ, T, N in the \"Examples\" cell to see pricing effects.\n",
    "- Increase N to improve accuracy (but higher compute cost).\n",
    "- Set q > 0 to explore dividend effects; American calls can then exceed European calls.\n",
    "\n"
   ]
  },
  {
   "cell_type": "markdown",
   "id": "d5d53018",
   "metadata": {},
   "source": [
    "\n",
    "## Setup\n"
   ]
  },
  {
   "cell_type": "code",
   "execution_count": 1,
   "id": "61627b62",
   "metadata": {},
   "outputs": [],
   "source": [
    "\n",
    "import math\n",
    "import numpy as np\n",
    "import pandas as pd\n",
    "import matplotlib.pyplot as plt\n",
    "\n",
    "plt.rcParams[\"figure.figsize\"] = (8, 4)\n",
    "np.random.seed(0)\n"
   ]
  },
  {
   "cell_type": "markdown",
   "id": "1c3ea7af",
   "metadata": {},
   "source": [
    "\n",
    "## Black–Scholes \n",
    "\n",
    "We only use Black–Scholes to **check** our binomial European prices.\n"
   ]
  },
  {
   "cell_type": "code",
   "execution_count": 2,
   "id": "6e815588",
   "metadata": {},
   "outputs": [],
   "source": [
    "\n",
    "from math import erf\n",
    "\n",
    "def _phi(x):\n",
    "    # Standard normal CDF via erf\n",
    "    return 0.5 * (1.0 + erf(x / math.sqrt(2.0)))\n",
    "\n",
    "def bs_price(S, K, r, q, sigma, T, is_call=True):\n",
    "    \"\"\"\n",
    "    Black–Scholes European option price.\n",
    "    \"\"\"\n",
    "    if T <= 0 or sigma <= 0 or S <= 0 or K <= 0:\n",
    "        if is_call:\n",
    "            return max(0.0, S*math.exp(-q*T) - K*math.exp(-r*T))\n",
    "        else:\n",
    "            return max(0.0, K*math.exp(-r*T) - S*math.exp(-q*T))\n",
    "    d1 = (math.log(S/K) + (r - q + 0.5*sigma*sigma)*T) / (sigma*math.sqrt(T))\n",
    "    d2 = d1 - sigma*math.sqrt(T)\n",
    "    if is_call:\n",
    "        return S*math.exp(-q*T)*_phi(d1) - K*math.exp(-r*T)*_phi(d2)\n",
    "    else:\n",
    "        return K*math.exp(-r*T)*_phi(-d2) - S*math.exp(-q*T)*_phi(-d1)\n"
   ]
  },
  {
   "cell_type": "markdown",
   "id": "df8c1d53",
   "metadata": {},
   "source": [
    "\n",
    "## CRR Binomial Pricing (European & American)\n",
    "\n",
    "Definitions for $N$ steps with $$\\Delta t=T/N:$$\n",
    "- $$u = e^{\\sigma\\sqrt{\\Delta t}}$$ $$d=1/u$$\n",
    "- Risk‑neutral prob. $$p = \\frac{e^{(r-q)\\Delta t} - d}{u-d}$$\n",
    "\n",
    "**European:** backward induction of **continuation values**\n",
    "**American:** at each node, take `max(continuation, intrinsic)` to allow early exercise.\n"
   ]
  },
  {
   "cell_type": "markdown",
   "id": "e0ffbd51",
   "metadata": {},
   "source": [
    "\n",
    "> Quick intuition: European pricing uses only discounted expected continuation values under the risk‑neutral measure. American pricing chooses the better of “continue” vs “exercise now” at each node. This difference is what creates the early‑exercise premium when it exists.\n"
   ]
  },
  {
   "cell_type": "code",
   "execution_count": 11,
   "id": "4ef94ac4",
   "metadata": {},
   "outputs": [],
   "source": [
    "\n",
    "def crr_price(S, K, r, q, sigma, T, N, is_call=True, american=False):\n",
    "    \"\"\"\n",
    "    Cox–Ross–Rubinstein (CRR) binomial option price.\n",
    "    \"\"\"\n",
    "    dt = T / N\n",
    "    u = math.exp(sigma * math.sqrt(dt))\n",
    "    d = 1.0 / u\n",
    "    disc = math.exp(-r * dt)\n",
    "    p = (math.exp((r - q) * dt) - d) / (u - d)\n",
    "    if not (0.0 <= p <= 1.0):\n",
    "        raise ValueError(\"Arbitrage: adjust parameters so 0 <= p <= 1.\")\n",
    "\n",
    "    # Terminal stock prices\n",
    "    ST = np.array([S * (u**j) * (d**(N-j)) for j in range(N+1)])\n",
    "\n",
    "    # Terminal payoffs\n",
    "    if is_call:\n",
    "        values = np.maximum(ST - K, 0.0)\n",
    "    else:\n",
    "        values = np.maximum(K - ST, 0.0)\n",
    "\n",
    "    # Backward induction\n",
    "    for t in range(N-1, -1, -1):\n",
    "        values = disc * (p * values[1:] + (1-p) * values[:-1])\n",
    "        if american:\n",
    "            S_layer = np.array([S * (u**j) * (d**(t-j)) for j in range(t+1)])\n",
    "            if is_call:\n",
    "                intrinsic = np.maximum(S_layer - K, 0.0)\n",
    "            else:\n",
    "                intrinsic = np.maximum(K - S_layer, 0.0)\n",
    "            values = np.maximum(values, intrinsic)\n",
    "\n",
    "    return float(values[0])\n"
   ]
  },
  {
   "cell_type": "markdown",
   "id": "67be6b1b",
   "metadata": {},
   "source": [
    "\n",
    "## Examples\n",
    "\n",
    "We use one simple parameter set and compare:\n",
    "- **Calls (q=0):** American ≈ European.  \n",
    "- **Puts:** American ≥ European.\n"
   ]
  },
  {
   "cell_type": "code",
   "execution_count": 12,
   "id": "7880aee9",
   "metadata": {},
   "outputs": [
    {
     "name": "stdout",
     "output_type": "stream",
     "text": [
      "European Call (CRR, N=200): 9.4035\n",
      "American  Call (CRR, N=200): 9.4035\n",
      "BS Call (reference)       : 9.4134\n",
      "Note: With q=0, early exercise does not help calls, so European ≈ American.\n",
      "European Put  (CRR, N=200): 6.4480\n",
      "American  Put  (CRR, N=200): 6.7382\n",
      "Early exercise can add value to puts, so American ≥ European.\n"
     ]
    }
   ],
   "source": [
    "\n",
    "# Parameters (easy to edit)\n",
    "S, K = 100.0, 100.0\n",
    "r, q = 0.03, 0.00\n",
    "sigma = 0.20\n",
    "T = 1.0\n",
    "N = 200\n",
    "\n",
    "# Calls (no dividends): American ≈ European\n",
    "eu_call = crr_price(S, K, r, q, sigma, T, N, is_call=True,  american=False)\n",
    "am_call = crr_price(S, K, r, q, sigma, T, N, is_call=True,  american=True)\n",
    "bs_call = bs_price(S, K, r, q, sigma, T, is_call=True)\n",
    "\n",
    "print(f\"European Call (CRR, N={N}): {eu_call:.4f}\")\n",
    "print(f\"American  Call (CRR, N={N}): {am_call:.4f}\")\n",
    "print(f\"BS Call (reference)       : {bs_call:.4f}\")\n",
    "print(\"Note: With q=0, early exercise does not help calls, so European ≈ American.\")\n",
    "\n",
    "# Puts: American ≥ European\n",
    "eu_put = crr_price(S, K, r, q, sigma, T, N, is_call=False, american=False)\n",
    "am_put = crr_price(S, K, r, q, sigma, T, N, is_call=False, american=True)\n",
    "\n",
    "print(f\"European Put  (CRR, N={N}): {eu_put:.4f}\")\n",
    "print(f\"American  Put  (CRR, N={N}): {am_put:.4f}\")\n",
    "print(\"Early exercise can add value to puts, so American ≥ European.\")\n"
   ]
  },
  {
   "cell_type": "markdown",
   "id": "535941d7",
   "metadata": {},
   "source": [
    "\n",
    "## Convergence: CRR European → Black–Scholes\n",
    "\n",
    "For a European **call** with no dividends, the CRR price approaches Black–Scholes as $N$ grows.\n"
   ]
  },
  {
   "cell_type": "code",
   "execution_count": 13,
   "id": "a74cf6f3",
   "metadata": {},
   "outputs": [
    {
     "data": {
      "image/png": "[encoded data removed]",
      "text/plain": [
       "<Figure size 800x400 with 1 Axes>"
      ]
     },
     "metadata": {},
     "output_type": "display_data"
    }
   ],
   "source": [
    "\n",
    "S, K, r, q, sigma, T = 100.0, 100.0, 0.03, 0.0, 0.20, 1.0\n",
    "bs_ref = bs_price(S, K, r, q, sigma, T, is_call=True)\n",
    "\n",
    "steps_list = [5, 10, 25, 50, 100, 200, 400, 800]\n",
    "crr_prices = []\n",
    "for N in steps_list:\n",
    "    c = crr_price(S, K, r, q, sigma, T, N, is_call=True, american=False)\n",
    "    crr_prices.append(c)\n",
    "\n",
    "plt.figure()\n",
    "plt.plot(steps_list, crr_prices, marker='o', label=\"CRR European Call\")\n",
    "plt.axhline(bs_ref, linestyle='--', label=\"BS reference\")\n",
    "plt.title(\"Convergence of CRR European Call to Black–Scholes\")\n",
    "plt.xlabel(\"Number of steps (N)\")\n",
    "plt.ylabel(\"Price\")\n",
    "plt.legend()\n",
    "plt.tight_layout()\n",
    "plt.show()\n"
   ]
  },
  {
   "cell_type": "markdown",
   "id": "0c76f95f",
   "metadata": {},
   "source": [
    "\n",
    "> What this graph tells:\n",
    "> - The solid line is the CRR European call price as a function of the number of steps N.\n",
    "> - The dashed line is the Black–Scholes (BS) reference for the same parameters (S, K, r, q, σ, T).\n",
    "> - As N increases, CRR converges toward the BS value. Small N can overshoot/undershoot; with N≈200–400 the price is typically within a few cents for these parameters.\n",
    "> - Binomial convergence often shows a mild odd/even oscillation—don’t worry, it fades as N grows.\n",
    "> - Practical tip: pick N based on the accuracy/speed trade‑off you need; larger N → better accuracy but slower.\n"
   ]
  },
  {
   "cell_type": "markdown",
   "id": "a3075fad",
   "metadata": {},
   "source": [
    "\n",
    "## American Put — a quick look at early exercise\n",
    "\n",
    "We visualize where **exercise** is optimal in the tree for an American **put**.  \n",
    "White (1) = exercise, Black (0) = continue (the figure uses default colors).\n"
   ]
  },
  {
   "cell_type": "code",
   "execution_count": 14,
   "id": "39798edd",
   "metadata": {},
   "outputs": [
    {
     "data": {
      "image/png": "[encoded data removed]",
      "text/plain": [
       "<Figure size 800x400 with 2 Axes>"
      ]
     },
     "metadata": {},
     "output_type": "display_data"
    }
   ],
   "source": [
    "\n",
    "def american_put_policy_grid(S, K, r, q, sigma, T, N):\n",
    "    dt = T / N\n",
    "    u = math.exp(sigma * math.sqrt(dt))\n",
    "    d = 1.0 / u\n",
    "    disc = math.exp(-r * dt)\n",
    "    p = (math.exp((r - q) * dt) - d) / (u - d)\n",
    "\n",
    "    # Precompute stock prices at nodes\n",
    "    S_nodes = [[S * (u**j) * (d**(t-j)) for j in range(t+1)] for t in range(N+1)]\n",
    "    # Terminal payoffs\n",
    "    V = [max(K - sT, 0.0) for sT in S_nodes[N]]\n",
    "\n",
    "    policy = [[False]*(t+1) for t in range(N+1)]\n",
    "\n",
    "    for t in range(N-1, -1, -1):\n",
    "        V_new = []\n",
    "        for j in range(t+1):\n",
    "            cont = disc * (p * V[j+1] + (1-p) * V[j])\n",
    "            intr = max(K - S_nodes[t][j], 0.0)\n",
    "            if intr > cont:\n",
    "                V_new.append(intr)\n",
    "                policy[t][j] = True\n",
    "            else:\n",
    "                V_new.append(cont)\n",
    "        V = V_new\n",
    "    return policy\n",
    "\n",
    "S, K, r, q, sigma, T, N_view = 100.0, 100.0, 0.03, 0.0, 0.20, 1.0, 60\n",
    "policy = american_put_policy_grid(S, K, r, q, sigma, T, N_view)\n",
    "\n",
    "# Build a matrix with 1 for exercise, 0 for continue, NaN for padding\n",
    "grid = np.full((N_view+1, N_view+1), np.nan)\n",
    "for t in range(N_view+1):\n",
    "    for j in range(t+1):\n",
    "        grid[t, j] = 1.0 if policy[t][j] else 0.0\n",
    "\n",
    "plt.figure()\n",
    "plt.imshow(grid.T, origin=\"lower\", aspect=\"auto\")\n",
    "plt.colorbar(label=\"Exercise=1  Continue=0\")\n",
    "plt.title(\"American Put — Early-Exercise Policy (CRR)\")\n",
    "plt.xlabel(\"Time step t\")\n",
    "plt.ylabel(\"Node index j (higher j ⇒ higher S)\")\n",
    "plt.tight_layout()\n",
    "plt.show()\n"
   ]
  },
  {
   "cell_type": "markdown",
   "id": "ffc98a26",
   "metadata": {},
   "source": [
    "\n",
    "> How to read the policy heatmap:\n",
    "> - Axes: x = time step t (0 → N), y = node index j (higher j ⇒ higher S). The color shows the action: 1 = exercise now (yellow), 0 = continue/hold (purple).\n",
    "> - The yellow wedge near lower j (lower S) is the region where early exercise of the American put is optimal.\n",
    "> - The boundary between yellow and purple is the early‑exercise frontier (\"free boundary\").\n",
    "> - Intuition: deeper in‑the‑money (low S) and closer to maturity (larger t) make immediate exercise more attractive.\n",
    "> - Parameter effects (qualitative):\n",
    ">   • Higher r generally expands the exercise region (money now is more valuable).\n",
    ">   • Lower σ shrinks continuation value, so exercise becomes optimal more often.\n",
    ">   • Changing q affects drift under the risk‑neutral measure; explore by editing q to see how the frontier moves.\n"
   ]
  }
 ],
 "metadata": {
  "kernelspec": {
   "display_name": "Python 3",
   "language": "python",
   "name": "python3"
  },
  "language_info": {
   "codemirror_mode": {
    "name": "ipython",
    "version": 3
   },
   "file_extension": ".py",
   "mimetype": "text/x-python",
   "name": "python",
   "nbconvert_exporter": "python",
   "pygments_lexer": "ipython3",
   "version": "3.13.5"
  }
 },
 "nbformat": 4,
 "nbformat_minor": 5
}
